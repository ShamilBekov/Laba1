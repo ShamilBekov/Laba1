{
 "cells": [
  {
   "cell_type": "markdown",
   "id": "db1a02c8-6ae9-4a01-877a-a0009f45ff99",
   "metadata": {},
   "source": [
    "# Практическое задание №1\n",
    "\n",
    "**Жирный текст**, *курсивный текст*\n",
    "\n",
    "Нумерованный список:\n",
    "1. Первый\n",
    "2. Второй\n",
    "3. Третий\n",
    "\n",
    "Маркированный список:\n",
    "- Первый\n",
    "- Второй\n",
    "- Третий\n",
    "\n",
    "## Интеграл от экспоненциальной функции:\n",
    "$\\int e^x\\,dx = e^x + C$\n",
    "\n",
    "![Белая птица](https://cm.author.today/content/2024/04/05/5a3867e2c06e405b94835cc1549e4ea1.jpg)"
   ]
  },
  {
   "cell_type": "code",
   "execution_count": 4,
   "id": "3f7e34ee-e27c-4c09-9f1a-cc9656a07a1b",
   "metadata": {},
   "outputs": [
    {
     "name": "stdin",
     "output_type": "stream",
     "text": [
      "Введите свое имя: Шамиль\n"
     ]
    },
    {
     "name": "stdout",
     "output_type": "stream",
     "text": [
      "Привет, Шамиль! Добро пожаловать в JupyterLab!\n"
     ]
    }
   ],
   "source": [
    "name = input(\"Введите свое имя:\")\n",
    "print(f\"Привет, {name}! Добро пожаловать в JupyterLab!\")"
   ]
  },
  {
   "cell_type": "code",
   "execution_count": null,
   "id": "c86c0b42-8b61-4e30-b4bc-7d7ec4081e6e",
   "metadata": {},
   "outputs": [],
   "source": []
  }
 ],
 "metadata": {
  "kernelspec": {
   "display_name": "Python [conda env:base] *",
   "language": "python",
   "name": "conda-base-py"
  },
  "language_info": {
   "codemirror_mode": {
    "name": "ipython",
    "version": 3
   },
   "file_extension": ".py",
   "mimetype": "text/x-python",
   "name": "python",
   "nbconvert_exporter": "python",
   "pygments_lexer": "ipython3",
   "version": "3.12.7"
  }
 },
 "nbformat": 4,
 "nbformat_minor": 5
}
