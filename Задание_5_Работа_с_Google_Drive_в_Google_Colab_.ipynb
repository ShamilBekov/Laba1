{
  "nbformat": 4,
  "nbformat_minor": 0,
  "metadata": {
    "colab": {
      "provenance": []
    },
    "kernelspec": {
      "name": "python3",
      "display_name": "Python 3"
    },
    "language_info": {
      "name": "python"
    }
  },
  "cells": [
    {
      "cell_type": "code",
      "execution_count": null,
      "metadata": {
        "colab": {
          "base_uri": "https://localhost:8080/"
        },
        "id": "4PcCdx91RcOc",
        "outputId": "68cf5e94-e1d3-4f11-de06-21e92686e0ca"
      },
      "outputs": [
        {
          "output_type": "stream",
          "name": "stdout",
          "text": [
            "Mounted at /content/drive\n"
          ]
        }
      ],
      "source": [
        "from google.colab import drive\n",
        "drive.mount('/content/drive')"
      ]
    },
    {
      "cell_type": "code",
      "source": [
        "!ls /content/drive/MyDrive"
      ],
      "metadata": {
        "colab": {
          "base_uri": "https://localhost:8080/"
        },
        "id": "jlRRiiwRR0O_",
        "outputId": "63ad1c5c-febf-4671-9d04-fd055914cc20"
      },
      "execution_count": null,
      "outputs": [
        {
          "output_type": "stream",
          "name": "stdout",
          "text": [
            "'Colab Notebooks'\n"
          ]
        }
      ]
    },
    {
      "cell_type": "code",
      "source": [
        "file_path = \"/content/drive/MyDrive/shamil.txt\"\n",
        "\n",
        "with open(file_path, \"w\") as f:\n",
        "    f.write(\"Первая строка текста\\n\")\n",
        "    f.write(\"Вторая строка текста.\")\n",
        "\n",
        "print(\"Файл успешно сохранен в Google Drive.\")"
      ],
      "metadata": {
        "colab": {
          "base_uri": "https://localhost:8080/"
        },
        "id": "r-fKMxIqSWGK",
        "outputId": "3b69da03-0e77-4aa7-eb9c-353a73423f2b"
      },
      "execution_count": null,
      "outputs": [
        {
          "output_type": "stream",
          "name": "stdout",
          "text": [
            "Файл успешно сохранен в Google Drive.\n"
          ]
        }
      ]
    },
    {
      "cell_type": "code",
      "source": [
        "with open(file_path, \"r\") as f:\n",
        "    data = f.read()\n",
        "    print(data)"
      ],
      "metadata": {
        "colab": {
          "base_uri": "https://localhost:8080/"
        },
        "id": "IoSuGxpPTuDR",
        "outputId": "1acac009-c7e5-4bd4-a1e6-1e1f2c6bed4f"
      },
      "execution_count": null,
      "outputs": [
        {
          "output_type": "stream",
          "name": "stdout",
          "text": [
            "Первая строка текста\n",
            "Вторая строка текста.\n"
          ]
        }
      ]
    },
    {
      "cell_type": "code",
      "source": [
        "students = [\n",
        "    [\"ФИО\", \"Возраст\", \"группа\"],\n",
        "    [\"Беков Ш.Р\", 19, \"ИВТ-б-о-23-1\"],\n",
        "    [\"Петров П.П.\", 22, \"ИВТ-102\"],\n",
        "    [\"Сидорова А.А.\", 21, \"ИВТ-103\"]\n",
        "]\n",
        "сsv_path = \"/content/drive/MyDrive/students.csv\""
      ],
      "metadata": {
        "id": "INxgdkBEUVMt"
      },
      "execution_count": null,
      "outputs": []
    },
    {
      "cell_type": "code",
      "source": [
        "with open(csv_path, \"w\") as f:\n",
        "    for student in students:\n",
        "        f.write(\",\".join(map(str, student)) + \"\\n\")\n",
        "\n",
        "print(\"Файл students.csv успешно сохранен в Google Drive.\")"
      ],
      "metadata": {
        "colab": {
          "base_uri": "https://localhost:8080/"
        },
        "id": "YulmlPbrVG7C",
        "outputId": "c0497fb9-17d8-477b-9f29-51f71eab7979"
      },
      "execution_count": null,
      "outputs": [
        {
          "output_type": "stream",
          "name": "stdout",
          "text": [
            "Файл students.csv успешно сохранен в Google Drive.\n"
          ]
        }
      ]
    },
    {
      "cell_type": "code",
      "source": [],
      "metadata": {
        "id": "GJu5h3w8VTuU"
      },
      "execution_count": null,
      "outputs": []
    }
  ]
}